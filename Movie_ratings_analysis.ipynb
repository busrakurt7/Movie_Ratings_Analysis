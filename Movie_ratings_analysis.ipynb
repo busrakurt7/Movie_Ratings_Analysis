{
  "nbformat": 4,
  "nbformat_minor": 0,
  "metadata": {
    "colab": {
      "name": "Movie_ratings_analysis.ipynb",
      "provenance": [],
      "collapsed_sections": [
        "-kXdQJEVj_i6",
        "5rvmn4WqkLXU"
      ],
      "toc_visible": true,
      "authorship_tag": "ABX9TyMeiSrQuvCfv1C/pLU37BAj",
      "include_colab_link": true
    },
    "kernelspec": {
      "name": "python3",
      "display_name": "Python 3"
    }
  },
  "cells": [
    {
      "cell_type": "markdown",
      "metadata": {
        "id": "view-in-github",
        "colab_type": "text"
      },
      "source": [
        "<a href=\"https://colab.research.google.com/github/busrakurt7/movie_ratings_analysis/blob/main/Movie_ratings_analysis.ipynb\" target=\"_parent\"><img src=\"https://colab.research.google.com/assets/colab-badge.svg\" alt=\"Open In Colab\"/></a>"
      ]
    },
    {
      "cell_type": "markdown",
      "metadata": {
        "id": "xlz_gPlWkcSO"
      },
      "source": [
        "You will need to upload a kaggle.json file as per the instructions here: https://www.kaggle.com/docs/api"
      ]
    },
    {
      "cell_type": "markdown",
      "metadata": {
        "id": "4VoOzULpl9wS"
      },
      "source": [
        "## **Research Question:**\n",
        "\n",
        "Does the director of the movies impact ratings?\n",
        "\n",
        "### ***Hypothesis:***\n",
        "\n",
        "There is no difference between Woody Allen movies ratings and average ratings for all other directors’ movies.\n",
        "\n",
        "### ***Methods:***\n",
        "\n",
        "Filter dataset to control confounding variables.\n",
        "(Genre & year)\n",
        "\n",
        "A/A test for recent comedy movies.\n",
        "\n",
        "A/A test for Woody Allen movies.\n",
        "\n",
        "t-test for recent comedy movies and Woody Allen movies."
      ]
    },
    {
      "cell_type": "code",
      "metadata": {
        "id": "dCuuL7o0xvbg"
      },
      "source": [
        "#importing required packages\n",
        "import pandas as pd\n",
        "import numpy as np\n",
        "import seaborn as sns\n",
        "from scipy import stats\n",
        "import os\n",
        "import zipfile\n",
        "import math"
      ],
      "execution_count": null,
      "outputs": []
    },
    {
      "cell_type": "code",
      "metadata": {
        "id": "Qsgujc_GBC7a"
      },
      "source": [
        "os.environ['KAGGLE_CONFIG_DIR'] = '/content'"
      ],
      "execution_count": null,
      "outputs": []
    },
    {
      "cell_type": "code",
      "metadata": {
        "id": "gF-txjEw6F-u"
      },
      "source": [
        "!chmod 600 /content/kaggle.json"
      ],
      "execution_count": null,
      "outputs": []
    },
    {
      "cell_type": "code",
      "metadata": {
        "colab": {
          "base_uri": "https://localhost:8080/"
        },
        "id": "qyJ7FQ45BzgG",
        "outputId": "53247301-e3ae-440c-a042-a27fa4a1f800"
      },
      "source": [
        "#downloading dataset from kaggle\n",
        "!kaggle datasets download -d stefanoleone992/imdb-extensive-dataset"
      ],
      "execution_count": null,
      "outputs": [
        {
          "output_type": "stream",
          "text": [
            "Downloading imdb-extensive-dataset.zip to /content\n",
            " 92% 76.0M/82.3M [00:00<00:00, 58.8MB/s]\n",
            "100% 82.3M/82.3M [00:00<00:00, 89.3MB/s]\n"
          ],
          "name": "stdout"
        }
      ]
    },
    {
      "cell_type": "code",
      "metadata": {
        "id": "WVSXtbvBEx5L"
      },
      "source": [
        "#unzipping downloaded files\n",
        "with zipfile.ZipFile('imdb-extensive-dataset.zip', 'r') as zipref:\n",
        "  zipref.extractall()\n"
      ],
      "execution_count": null,
      "outputs": []
    },
    {
      "cell_type": "code",
      "metadata": {
        "colab": {
          "base_uri": "https://localhost:8080/",
          "height": 700
        },
        "id": "envTguUFFGEO",
        "outputId": "9257a971-9b9b-484c-c1e1-d5b22e0bf6c6"
      },
      "source": [
        "#creating movies dataframe \n",
        "movies = pd.read_csv('IMDb movies.csv')\n",
        "movies.head()"
      ],
      "execution_count": null,
      "outputs": [
        {
          "output_type": "stream",
          "text": [
            "/usr/local/lib/python3.6/dist-packages/IPython/core/interactiveshell.py:2718: DtypeWarning: Columns (3) have mixed types.Specify dtype option on import or set low_memory=False.\n",
            "  interactivity=interactivity, compiler=compiler, result=result)\n"
          ],
          "name": "stderr"
        },
        {
          "output_type": "execute_result",
          "data": {
            "text/html": [
              "<div>\n",
              "<style scoped>\n",
              "    .dataframe tbody tr th:only-of-type {\n",
              "        vertical-align: middle;\n",
              "    }\n",
              "\n",
              "    .dataframe tbody tr th {\n",
              "        vertical-align: top;\n",
              "    }\n",
              "\n",
              "    .dataframe thead th {\n",
              "        text-align: right;\n",
              "    }\n",
              "</style>\n",
              "<table border=\"1\" class=\"dataframe\">\n",
              "  <thead>\n",
              "    <tr style=\"text-align: right;\">\n",
              "      <th></th>\n",
              "      <th>imdb_title_id</th>\n",
              "      <th>title</th>\n",
              "      <th>original_title</th>\n",
              "      <th>year</th>\n",
              "      <th>date_published</th>\n",
              "      <th>genre</th>\n",
              "      <th>duration</th>\n",
              "      <th>country</th>\n",
              "      <th>language</th>\n",
              "      <th>director</th>\n",
              "      <th>writer</th>\n",
              "      <th>production_company</th>\n",
              "      <th>actors</th>\n",
              "      <th>description</th>\n",
              "      <th>avg_vote</th>\n",
              "      <th>votes</th>\n",
              "      <th>budget</th>\n",
              "      <th>usa_gross_income</th>\n",
              "      <th>worlwide_gross_income</th>\n",
              "      <th>metascore</th>\n",
              "      <th>reviews_from_users</th>\n",
              "      <th>reviews_from_critics</th>\n",
              "    </tr>\n",
              "  </thead>\n",
              "  <tbody>\n",
              "    <tr>\n",
              "      <th>0</th>\n",
              "      <td>tt0000009</td>\n",
              "      <td>Miss Jerry</td>\n",
              "      <td>Miss Jerry</td>\n",
              "      <td>1894</td>\n",
              "      <td>1894-10-09</td>\n",
              "      <td>Romance</td>\n",
              "      <td>45</td>\n",
              "      <td>USA</td>\n",
              "      <td>None</td>\n",
              "      <td>Alexander Black</td>\n",
              "      <td>Alexander Black</td>\n",
              "      <td>Alexander Black Photoplays</td>\n",
              "      <td>Blanche Bayliss, William Courtenay, Chauncey D...</td>\n",
              "      <td>The adventures of a female reporter in the 1890s.</td>\n",
              "      <td>5.9</td>\n",
              "      <td>154</td>\n",
              "      <td>NaN</td>\n",
              "      <td>NaN</td>\n",
              "      <td>NaN</td>\n",
              "      <td>NaN</td>\n",
              "      <td>1.0</td>\n",
              "      <td>2.0</td>\n",
              "    </tr>\n",
              "    <tr>\n",
              "      <th>1</th>\n",
              "      <td>tt0000574</td>\n",
              "      <td>The Story of the Kelly Gang</td>\n",
              "      <td>The Story of the Kelly Gang</td>\n",
              "      <td>1906</td>\n",
              "      <td>1906-12-26</td>\n",
              "      <td>Biography, Crime, Drama</td>\n",
              "      <td>70</td>\n",
              "      <td>Australia</td>\n",
              "      <td>None</td>\n",
              "      <td>Charles Tait</td>\n",
              "      <td>Charles Tait</td>\n",
              "      <td>J. and N. Tait</td>\n",
              "      <td>Elizabeth Tait, John Tait, Norman Campbell, Be...</td>\n",
              "      <td>True story of notorious Australian outlaw Ned ...</td>\n",
              "      <td>6.1</td>\n",
              "      <td>589</td>\n",
              "      <td>$ 2250</td>\n",
              "      <td>NaN</td>\n",
              "      <td>NaN</td>\n",
              "      <td>NaN</td>\n",
              "      <td>7.0</td>\n",
              "      <td>7.0</td>\n",
              "    </tr>\n",
              "    <tr>\n",
              "      <th>2</th>\n",
              "      <td>tt0001892</td>\n",
              "      <td>Den sorte drøm</td>\n",
              "      <td>Den sorte drøm</td>\n",
              "      <td>1911</td>\n",
              "      <td>1911-08-19</td>\n",
              "      <td>Drama</td>\n",
              "      <td>53</td>\n",
              "      <td>Germany, Denmark</td>\n",
              "      <td>NaN</td>\n",
              "      <td>Urban Gad</td>\n",
              "      <td>Urban Gad, Gebhard Schätzler-Perasini</td>\n",
              "      <td>Fotorama</td>\n",
              "      <td>Asta Nielsen, Valdemar Psilander, Gunnar Helse...</td>\n",
              "      <td>Two men of high rank are both wooing the beaut...</td>\n",
              "      <td>5.8</td>\n",
              "      <td>188</td>\n",
              "      <td>NaN</td>\n",
              "      <td>NaN</td>\n",
              "      <td>NaN</td>\n",
              "      <td>NaN</td>\n",
              "      <td>5.0</td>\n",
              "      <td>2.0</td>\n",
              "    </tr>\n",
              "    <tr>\n",
              "      <th>3</th>\n",
              "      <td>tt0002101</td>\n",
              "      <td>Cleopatra</td>\n",
              "      <td>Cleopatra</td>\n",
              "      <td>1912</td>\n",
              "      <td>1912-11-13</td>\n",
              "      <td>Drama, History</td>\n",
              "      <td>100</td>\n",
              "      <td>USA</td>\n",
              "      <td>English</td>\n",
              "      <td>Charles L. Gaskill</td>\n",
              "      <td>Victorien Sardou</td>\n",
              "      <td>Helen Gardner Picture Players</td>\n",
              "      <td>Helen Gardner, Pearl Sindelar, Miss Fielding, ...</td>\n",
              "      <td>The fabled queen of Egypt's affair with Roman ...</td>\n",
              "      <td>5.2</td>\n",
              "      <td>446</td>\n",
              "      <td>$ 45000</td>\n",
              "      <td>NaN</td>\n",
              "      <td>NaN</td>\n",
              "      <td>NaN</td>\n",
              "      <td>25.0</td>\n",
              "      <td>3.0</td>\n",
              "    </tr>\n",
              "    <tr>\n",
              "      <th>4</th>\n",
              "      <td>tt0002130</td>\n",
              "      <td>L'Inferno</td>\n",
              "      <td>L'Inferno</td>\n",
              "      <td>1911</td>\n",
              "      <td>1911-03-06</td>\n",
              "      <td>Adventure, Drama, Fantasy</td>\n",
              "      <td>68</td>\n",
              "      <td>Italy</td>\n",
              "      <td>Italian</td>\n",
              "      <td>Francesco Bertolini, Adolfo Padovan</td>\n",
              "      <td>Dante Alighieri</td>\n",
              "      <td>Milano Film</td>\n",
              "      <td>Salvatore Papa, Arturo Pirovano, Giuseppe de L...</td>\n",
              "      <td>Loosely adapted from Dante's Divine Comedy and...</td>\n",
              "      <td>7.0</td>\n",
              "      <td>2237</td>\n",
              "      <td>NaN</td>\n",
              "      <td>NaN</td>\n",
              "      <td>NaN</td>\n",
              "      <td>NaN</td>\n",
              "      <td>31.0</td>\n",
              "      <td>14.0</td>\n",
              "    </tr>\n",
              "  </tbody>\n",
              "</table>\n",
              "</div>"
            ],
            "text/plain": [
              "  imdb_title_id  ... reviews_from_critics\n",
              "0     tt0000009  ...                  2.0\n",
              "1     tt0000574  ...                  7.0\n",
              "2     tt0001892  ...                  2.0\n",
              "3     tt0002101  ...                  3.0\n",
              "4     tt0002130  ...                 14.0\n",
              "\n",
              "[5 rows x 22 columns]"
            ]
          },
          "metadata": {
            "tags": []
          },
          "execution_count": 6
        }
      ]
    },
    {
      "cell_type": "code",
      "metadata": {
        "colab": {
          "base_uri": "https://localhost:8080/"
        },
        "id": "fcyRxDHPFgGa",
        "outputId": "91b7c9ac-58fa-47e9-df92-21f3cf8ba002"
      },
      "source": [
        "movies.info()"
      ],
      "execution_count": null,
      "outputs": [
        {
          "output_type": "stream",
          "text": [
            "<class 'pandas.core.frame.DataFrame'>\n",
            "RangeIndex: 85855 entries, 0 to 85854\n",
            "Data columns (total 22 columns):\n",
            " #   Column                 Non-Null Count  Dtype  \n",
            "---  ------                 --------------  -----  \n",
            " 0   imdb_title_id          85855 non-null  object \n",
            " 1   title                  85855 non-null  object \n",
            " 2   original_title         85855 non-null  object \n",
            " 3   year                   85855 non-null  object \n",
            " 4   date_published         85855 non-null  object \n",
            " 5   genre                  85855 non-null  object \n",
            " 6   duration               85855 non-null  int64  \n",
            " 7   country                85791 non-null  object \n",
            " 8   language               85022 non-null  object \n",
            " 9   director               85768 non-null  object \n",
            " 10  writer                 84283 non-null  object \n",
            " 11  production_company     81400 non-null  object \n",
            " 12  actors                 85786 non-null  object \n",
            " 13  description            83740 non-null  object \n",
            " 14  avg_vote               85855 non-null  float64\n",
            " 15  votes                  85855 non-null  int64  \n",
            " 16  budget                 23710 non-null  object \n",
            " 17  usa_gross_income       15326 non-null  object \n",
            " 18  worlwide_gross_income  31016 non-null  object \n",
            " 19  metascore              13305 non-null  float64\n",
            " 20  reviews_from_users     78258 non-null  float64\n",
            " 21  reviews_from_critics   74058 non-null  float64\n",
            "dtypes: float64(4), int64(2), object(16)\n",
            "memory usage: 14.4+ MB\n"
          ],
          "name": "stdout"
        }
      ]
    },
    {
      "cell_type": "code",
      "metadata": {
        "id": "TYxtd7R19nZ3"
      },
      "source": [
        "#replacing 'TV Movie 2019' with '2019'\n",
        "movies.loc[:,'year'].replace('TV Movie 2019','2019', inplace=True)"
      ],
      "execution_count": null,
      "outputs": []
    },
    {
      "cell_type": "code",
      "metadata": {
        "colab": {
          "base_uri": "https://localhost:8080/"
        },
        "id": "YCW22mNkeJvY",
        "outputId": "5540e649-bfdf-4abf-b438-936fae824be9"
      },
      "source": [
        "movies['year'].unique()"
      ],
      "execution_count": null,
      "outputs": [
        {
          "output_type": "execute_result",
          "data": {
            "text/plain": [
              "array([1894, 1906, 1911, 1912, 1919, 1913, 1914, 1915, 1916, 1917, 1918,\n",
              "       1920, 1921, 1924, 1922, 1923, 1925, 1926, 1935, 1927, 1928, 1983,\n",
              "       1929, 1930, 1932, 1931, 1937, 1938, 1933, 1934, 1936, 1940, 1939,\n",
              "       1942, 1943, 1941, 1948, 1944, 2001, 1946, 1945, 1947, 1973, 1949,\n",
              "       1950, 1952, 1951, 1962, 1953, 1954, 1955, 1961, 1956, 1958, 1957,\n",
              "       1959, 1960, 1963, 1965, 1971, 1964, 1966, 1968, 1967, 1969, 1976,\n",
              "       1970, 1979, 1972, 1981, 1978, 2000, 1989, 1975, 1974, 1986, 1990,\n",
              "       2018, 1977, 1982, 1980, 1993, 1984, 1985, 1988, 1987, 2005, 1991,\n",
              "       2002, 1994, 1992, 1995, 2017, 1997, 1996, 2006, 1999, 1998, 2007,\n",
              "       2008, 2003, 2004, 2010, 2009, 2011, 2013, 2012, 2016, 2015, 2014,\n",
              "       2019, 2020, '2012', '2015', '2009', '2013', '2018', '2014', '2017',\n",
              "       '2011', '2016', '1981', '1975', '2010', '1984', '2007', '2006',\n",
              "       '2001', '2004', '1979', '2019', '1967', '1978', '2003', '2005',\n",
              "       '1969', '1990', '1983', '2002', '1996', '2008', '1995', '1999',\n",
              "       '1974', '1993', '1998', '1989', '2020', '1966', '1956', '1962',\n",
              "       '1985', '2000', '1971', '1970', '1986', '1930', '1976', '1982',\n",
              "       '1992', '1963', '1994', '1964', '1997', '1987', '1980', '1988'],\n",
              "      dtype=object)"
            ]
          },
          "metadata": {
            "tags": []
          },
          "execution_count": 9
        }
      ]
    },
    {
      "cell_type": "code",
      "metadata": {
        "colab": {
          "base_uri": "https://localhost:8080/"
        },
        "id": "EZQXrRRXcE9j",
        "outputId": "4ea7e3d4-c5fe-4a4b-d29b-679444a37be4"
      },
      "source": [
        "movies.info()"
      ],
      "execution_count": null,
      "outputs": [
        {
          "output_type": "stream",
          "text": [
            "<class 'pandas.core.frame.DataFrame'>\n",
            "RangeIndex: 85855 entries, 0 to 85854\n",
            "Data columns (total 22 columns):\n",
            " #   Column                 Non-Null Count  Dtype  \n",
            "---  ------                 --------------  -----  \n",
            " 0   imdb_title_id          85855 non-null  object \n",
            " 1   title                  85855 non-null  object \n",
            " 2   original_title         85855 non-null  object \n",
            " 3   year                   85855 non-null  object \n",
            " 4   date_published         85855 non-null  object \n",
            " 5   genre                  85855 non-null  object \n",
            " 6   duration               85855 non-null  int64  \n",
            " 7   country                85791 non-null  object \n",
            " 8   language               85022 non-null  object \n",
            " 9   director               85768 non-null  object \n",
            " 10  writer                 84283 non-null  object \n",
            " 11  production_company     81400 non-null  object \n",
            " 12  actors                 85786 non-null  object \n",
            " 13  description            83740 non-null  object \n",
            " 14  avg_vote               85855 non-null  float64\n",
            " 15  votes                  85855 non-null  int64  \n",
            " 16  budget                 23710 non-null  object \n",
            " 17  usa_gross_income       15326 non-null  object \n",
            " 18  worlwide_gross_income  31016 non-null  object \n",
            " 19  metascore              13305 non-null  float64\n",
            " 20  reviews_from_users     78258 non-null  float64\n",
            " 21  reviews_from_critics   74058 non-null  float64\n",
            "dtypes: float64(4), int64(2), object(16)\n",
            "memory usage: 14.4+ MB\n"
          ],
          "name": "stdout"
        }
      ]
    },
    {
      "cell_type": "code",
      "metadata": {
        "colab": {
          "base_uri": "https://localhost:8080/"
        },
        "id": "f_h93qbyYwtl",
        "outputId": "7759256a-7a5a-4e5e-92de-37072b282bde"
      },
      "source": [
        "#changing datatype of 'year'\n",
        "movies=movies.astype({\"year\":'int64'})\n",
        "movies.info()"
      ],
      "execution_count": null,
      "outputs": [
        {
          "output_type": "stream",
          "text": [
            "<class 'pandas.core.frame.DataFrame'>\n",
            "RangeIndex: 85855 entries, 0 to 85854\n",
            "Data columns (total 22 columns):\n",
            " #   Column                 Non-Null Count  Dtype  \n",
            "---  ------                 --------------  -----  \n",
            " 0   imdb_title_id          85855 non-null  object \n",
            " 1   title                  85855 non-null  object \n",
            " 2   original_title         85855 non-null  object \n",
            " 3   year                   85855 non-null  int64  \n",
            " 4   date_published         85855 non-null  object \n",
            " 5   genre                  85855 non-null  object \n",
            " 6   duration               85855 non-null  int64  \n",
            " 7   country                85791 non-null  object \n",
            " 8   language               85022 non-null  object \n",
            " 9   director               85768 non-null  object \n",
            " 10  writer                 84283 non-null  object \n",
            " 11  production_company     81400 non-null  object \n",
            " 12  actors                 85786 non-null  object \n",
            " 13  description            83740 non-null  object \n",
            " 14  avg_vote               85855 non-null  float64\n",
            " 15  votes                  85855 non-null  int64  \n",
            " 16  budget                 23710 non-null  object \n",
            " 17  usa_gross_income       15326 non-null  object \n",
            " 18  worlwide_gross_income  31016 non-null  object \n",
            " 19  metascore              13305 non-null  float64\n",
            " 20  reviews_from_users     78258 non-null  float64\n",
            " 21  reviews_from_critics   74058 non-null  float64\n",
            "dtypes: float64(4), int64(3), object(15)\n",
            "memory usage: 14.4+ MB\n"
          ],
          "name": "stdout"
        }
      ]
    },
    {
      "cell_type": "code",
      "metadata": {
        "colab": {
          "base_uri": "https://localhost:8080/",
          "height": 666
        },
        "id": "fMKnHypev_pb",
        "outputId": "3a9404d2-17a7-46ef-87dd-085c8f646259"
      },
      "source": [
        "#creating dataframe for the comedy genre after 1990\n",
        "all_comedy=movies.loc[((movies['genre'].str.contains('Comedy')) & (movies['year']>1990)), :]\n",
        "\n",
        "comedy_recent = all_comedy.loc[~(all_comedy['director'] == 'Woody Allen'), :]\n",
        "comedy_recent.head()\n"
      ],
      "execution_count": null,
      "outputs": [
        {
          "output_type": "execute_result",
          "data": {
            "text/html": [
              "<div>\n",
              "<style scoped>\n",
              "    .dataframe tbody tr th:only-of-type {\n",
              "        vertical-align: middle;\n",
              "    }\n",
              "\n",
              "    .dataframe tbody tr th {\n",
              "        vertical-align: top;\n",
              "    }\n",
              "\n",
              "    .dataframe thead th {\n",
              "        text-align: right;\n",
              "    }\n",
              "</style>\n",
              "<table border=\"1\" class=\"dataframe\">\n",
              "  <thead>\n",
              "    <tr style=\"text-align: right;\">\n",
              "      <th></th>\n",
              "      <th>imdb_title_id</th>\n",
              "      <th>title</th>\n",
              "      <th>original_title</th>\n",
              "      <th>year</th>\n",
              "      <th>date_published</th>\n",
              "      <th>genre</th>\n",
              "      <th>duration</th>\n",
              "      <th>country</th>\n",
              "      <th>language</th>\n",
              "      <th>director</th>\n",
              "      <th>writer</th>\n",
              "      <th>production_company</th>\n",
              "      <th>actors</th>\n",
              "      <th>description</th>\n",
              "      <th>avg_vote</th>\n",
              "      <th>votes</th>\n",
              "      <th>budget</th>\n",
              "      <th>usa_gross_income</th>\n",
              "      <th>worlwide_gross_income</th>\n",
              "      <th>metascore</th>\n",
              "      <th>reviews_from_users</th>\n",
              "      <th>reviews_from_critics</th>\n",
              "    </tr>\n",
              "  </thead>\n",
              "  <tbody>\n",
              "    <tr>\n",
              "      <th>4334</th>\n",
              "      <td>tt0035423</td>\n",
              "      <td>Kate &amp; Leopold</td>\n",
              "      <td>Kate &amp; Leopold</td>\n",
              "      <td>2001</td>\n",
              "      <td>2002-03-01</td>\n",
              "      <td>Comedy, Fantasy, Romance</td>\n",
              "      <td>118</td>\n",
              "      <td>USA</td>\n",
              "      <td>English, French</td>\n",
              "      <td>James Mangold</td>\n",
              "      <td>Steven Rogers, James Mangold</td>\n",
              "      <td>Konrad Pictures</td>\n",
              "      <td>Meg Ryan, Hugh Jackman, Liev Schreiber, Brecki...</td>\n",
              "      <td>An English Duke from 1876 is inadvertedly drag...</td>\n",
              "      <td>6.4</td>\n",
              "      <td>77852</td>\n",
              "      <td>$ 48000000</td>\n",
              "      <td>$ 47121859</td>\n",
              "      <td>$ 76019048</td>\n",
              "      <td>44.0</td>\n",
              "      <td>341.0</td>\n",
              "      <td>115.0</td>\n",
              "    </tr>\n",
              "    <tr>\n",
              "      <th>19545</th>\n",
              "      <td>tt0081145</td>\n",
              "      <td>Harry e Carota</td>\n",
              "      <td>Me and the Kid</td>\n",
              "      <td>1993</td>\n",
              "      <td>1993-10-22</td>\n",
              "      <td>Comedy, Crime, Drama</td>\n",
              "      <td>94</td>\n",
              "      <td>USA</td>\n",
              "      <td>English</td>\n",
              "      <td>Dan Curtis</td>\n",
              "      <td>Stanley Cohen, Richard Tannenbaum</td>\n",
              "      <td>Dan Curtis Productions</td>\n",
              "      <td>Danny Aiello, Alex Zuckerman, Joe Pantoliano, ...</td>\n",
              "      <td>A lonely and emotionally neglected rich kid fo...</td>\n",
              "      <td>5.4</td>\n",
              "      <td>242</td>\n",
              "      <td>NaN</td>\n",
              "      <td>$ 60473</td>\n",
              "      <td>NaN</td>\n",
              "      <td>NaN</td>\n",
              "      <td>3.0</td>\n",
              "      <td>NaN</td>\n",
              "    </tr>\n",
              "    <tr>\n",
              "      <th>21806</th>\n",
              "      <td>tt0088751</td>\n",
              "      <td>The Naked Monster</td>\n",
              "      <td>The Naked Monster</td>\n",
              "      <td>2005</td>\n",
              "      <td>2005-04-22</td>\n",
              "      <td>Comedy, Horror, Sci-Fi</td>\n",
              "      <td>100</td>\n",
              "      <td>USA</td>\n",
              "      <td>English</td>\n",
              "      <td>Wayne Berwick, Ted Newsom</td>\n",
              "      <td>Ted Newsom</td>\n",
              "      <td>Heidelberg Films</td>\n",
              "      <td>Kenneth Tobey, Brinke Stevens, R.G. Wilson, Jo...</td>\n",
              "      <td>A brain-dead sheriff, a stolid secret agent an...</td>\n",
              "      <td>5.4</td>\n",
              "      <td>264</td>\n",
              "      <td>PYG 350000000</td>\n",
              "      <td>NaN</td>\n",
              "      <td>NaN</td>\n",
              "      <td>NaN</td>\n",
              "      <td>15.0</td>\n",
              "      <td>8.0</td>\n",
              "    </tr>\n",
              "    <tr>\n",
              "      <th>23295</th>\n",
              "      <td>tt0093309</td>\n",
              "      <td>Jiang shi zhi zun</td>\n",
              "      <td>Jiang shi zhi zun</td>\n",
              "      <td>1991</td>\n",
              "      <td>1991-01-01</td>\n",
              "      <td>Comedy, Horror</td>\n",
              "      <td>88</td>\n",
              "      <td>Hong Kong</td>\n",
              "      <td>Cantonese, Mandarin</td>\n",
              "      <td>Andrew Lau</td>\n",
              "      <td>Chak-Chi Lok</td>\n",
              "      <td>Eagle Film Production Company</td>\n",
              "      <td>Ching-Ying Lam, Siu-Ho Chin, Ronald Wong, Carr...</td>\n",
              "      <td>\"Vampire Buster\" Lam Ching-Ying returns as Mas...</td>\n",
              "      <td>6.5</td>\n",
              "      <td>117</td>\n",
              "      <td>NaN</td>\n",
              "      <td>NaN</td>\n",
              "      <td>NaN</td>\n",
              "      <td>NaN</td>\n",
              "      <td>2.0</td>\n",
              "      <td>2.0</td>\n",
              "    </tr>\n",
              "    <tr>\n",
              "      <th>24726</th>\n",
              "      <td>tt0097766</td>\n",
              "      <td>Lo que le pasó a Santiago</td>\n",
              "      <td>Lo que le pasó a Santiago</td>\n",
              "      <td>1995</td>\n",
              "      <td>1995-10-05</td>\n",
              "      <td>Comedy, Drama, Romance</td>\n",
              "      <td>105</td>\n",
              "      <td>Puerto Rico</td>\n",
              "      <td>Spanish</td>\n",
              "      <td>Jacobo Morales</td>\n",
              "      <td>Jacobo Morales</td>\n",
              "      <td>Bacalao Inc.</td>\n",
              "      <td>Tommy Muñiz, Gladys Rodríguez, Johanna Rosaly,...</td>\n",
              "      <td>Santiago, a retired accountant, casually meets...</td>\n",
              "      <td>7.0</td>\n",
              "      <td>207</td>\n",
              "      <td>$ 800000</td>\n",
              "      <td>NaN</td>\n",
              "      <td>NaN</td>\n",
              "      <td>NaN</td>\n",
              "      <td>5.0</td>\n",
              "      <td>NaN</td>\n",
              "    </tr>\n",
              "  </tbody>\n",
              "</table>\n",
              "</div>"
            ],
            "text/plain": [
              "      imdb_title_id  ... reviews_from_critics\n",
              "4334      tt0035423  ...                115.0\n",
              "19545     tt0081145  ...                  NaN\n",
              "21806     tt0088751  ...                  8.0\n",
              "23295     tt0093309  ...                  2.0\n",
              "24726     tt0097766  ...                  NaN\n",
              "\n",
              "[5 rows x 22 columns]"
            ]
          },
          "metadata": {
            "tags": []
          },
          "execution_count": 12
        }
      ]
    },
    {
      "cell_type": "markdown",
      "metadata": {
        "id": "joCLWIU3iK3c"
      },
      "source": [
        "## **A/A Test for All Movies**\n",
        "\n",
        "### ***Hypothesis:***\n",
        "\n",
        "There is no significant difference in ratings between the samples. \n",
        "\n",
        "### ***Result:***\n",
        "\n",
        "Fail to reject the null that there is no significant difference in ratings between the samples.\n",
        "\n",
        "The p-value of 0.92 is not less than the .05 threshold we need to reject the null. \n",
        "\n",
        "### ***Conclusion:***\n",
        "\n",
        "We conclude that the confounding variables have been controlled for. "
      ]
    },
    {
      "cell_type": "code",
      "metadata": {
        "colab": {
          "base_uri": "https://localhost:8080/"
        },
        "id": "pB9G386GA7o4",
        "outputId": "b1e5ac5b-b6f2-403c-eca0-c054ef10f800"
      },
      "source": [
        "#creating first random sample from 'comedy_recent'\n",
        "comedy_sample_1=comedy_recent.sample(frac=0.5)\n",
        "\n",
        "#size of the first sample\n",
        "len(comedy_sample_1)"
      ],
      "execution_count": null,
      "outputs": [
        {
          "output_type": "execute_result",
          "data": {
            "text/plain": [
              "9658"
            ]
          },
          "metadata": {
            "tags": []
          },
          "execution_count": 13
        }
      ]
    },
    {
      "cell_type": "code",
      "metadata": {
        "colab": {
          "base_uri": "https://localhost:8080/"
        },
        "id": "pVi0cz_PDl1B",
        "outputId": "c31abd56-2ac4-43fe-8a5c-39865cbf9dad"
      },
      "source": [
        "#creating second sample from 'comedy_recent'\n",
        "comedy_sample_2=comedy_recent.drop(comedy_sample_1.index)\n",
        "\n",
        "#size of the second sample\n",
        "len(comedy_sample_2)"
      ],
      "execution_count": null,
      "outputs": [
        {
          "output_type": "execute_result",
          "data": {
            "text/plain": [
              "9659"
            ]
          },
          "metadata": {
            "tags": []
          },
          "execution_count": 14
        }
      ]
    },
    {
      "cell_type": "code",
      "metadata": {
        "colab": {
          "base_uri": "https://localhost:8080/"
        },
        "id": "IF4msU3-KlP8",
        "outputId": "29812964-7035-47f4-a894-bf8280107473"
      },
      "source": [
        "#running a/a test for comedy_recent\n",
        "stats.ttest_ind(comedy_sample_1['avg_vote'], comedy_sample_2['avg_vote'])"
      ],
      "execution_count": null,
      "outputs": [
        {
          "output_type": "execute_result",
          "data": {
            "text/plain": [
              "Ttest_indResult(statistic=0.48535643064054496, pvalue=0.6274290376912831)"
            ]
          },
          "metadata": {
            "tags": []
          },
          "execution_count": 15
        }
      ]
    },
    {
      "cell_type": "code",
      "metadata": {
        "id": "EpUsAoAngtYI"
      },
      "source": [
        "# Calculate the sample size, mean, and variance of each sample.\n",
        "comedy_sample_1_n = comedy_sample_1.shape[0]\n",
        "comedy_sample_2_n = comedy_sample_2.shape[0]\n",
        "comedy_sample_1_mean = comedy_sample_1['avg_vote'].mean()\n",
        "comedy_sample_2_mean = comedy_sample_2['avg_vote'].mean()\n",
        "comedy_sample_1_var = comedy_sample_1['avg_vote'].var()\n",
        "comedy_sample_2_var = comedy_sample_2['avg_vote'].var()"
      ],
      "execution_count": null,
      "outputs": []
    },
    {
      "cell_type": "code",
      "metadata": {
        "colab": {
          "base_uri": "https://localhost:8080/"
        },
        "id": "LOZ0Rsw3gop4",
        "outputId": "7fd255fc-0198-4546-857c-a40ebf0356fc"
      },
      "source": [
        "# Calculate the standard error and compute the confidence intervals for comedy_sample_1.\n",
        "std_err_comedy_1 = math.sqrt(comedy_sample_1_var/comedy_sample_1_n)\n",
        "\n",
        "margin_of_error = 1.96 * std_err_comedy_1\n",
        "\n",
        "ci_lower = comedy_sample_1_mean - margin_of_error\n",
        "ci_upper = comedy_sample_1_mean + margin_of_error\n",
        "\n",
        "print(\"With 95% confidence the ratings mean is between \"+str(ci_lower)+\" and \"+str(ci_upper)+\".\")\n",
        "\n"
      ],
      "execution_count": null,
      "outputs": [
        {
          "output_type": "stream",
          "text": [
            "With 95% confidence the ratings mean is between 5.659353692101757 and 5.707202530718661.\n"
          ],
          "name": "stdout"
        }
      ]
    },
    {
      "cell_type": "code",
      "metadata": {
        "colab": {
          "base_uri": "https://localhost:8080/"
        },
        "id": "ay_MN-TCgqIg",
        "outputId": "6b4cccb7-c20d-4cbe-c9d6-02643eb74f17"
      },
      "source": [
        "# Calculate the standard error and compute the confidence intervals for comedy_sample_2.\n",
        "std_err_comedy_2 = math.sqrt(comedy_sample_2_var/comedy_sample_2_n)\n",
        "\n",
        "margin_of_error = 1.96 * std_err_comedy_2\n",
        "\n",
        "ci_lower = comedy_sample_2_mean - margin_of_error\n",
        "ci_upper = comedy_sample_2_mean + margin_of_error\n",
        "\n",
        "print(\"With 95% confidence the ratings mean is between \"+str(ci_lower)+\" and \"+str(ci_upper)+\".\")\n",
        "\n"
      ],
      "execution_count": null,
      "outputs": [
        {
          "output_type": "stream",
          "text": [
            "With 95% confidence the ratings mean is between 5.65052088433581 and 5.69914264190918.\n"
          ],
          "name": "stdout"
        }
      ]
    },
    {
      "cell_type": "code",
      "metadata": {
        "id": "3ZxxrrpJF4ma"
      },
      "source": [
        "# Create dataframe for bar plot.\n",
        "comedy_sample_1['director']='Directors 1'\n",
        "comedy_sample_2['director']='Directors 2'\n",
        "comedy_1=comedy_sample_1.loc[:,['director','avg_vote']]\n",
        "comedy_2=comedy_sample_2.loc[:,['director','avg_vote']]\n",
        "values_comedy=pd.concat([comedy_1,comedy_2])\n"
      ],
      "execution_count": null,
      "outputs": []
    },
    {
      "cell_type": "code",
      "metadata": {
        "colab": {
          "base_uri": "https://localhost:8080/",
          "height": 296
        },
        "id": "n9RPmEN5GZBb",
        "outputId": "8ca1f554-0e72-421e-af12-401b77fc2510"
      },
      "source": [
        "sns.barplot(x='director',y= 'avg_vote', yerr=[std_err_comedy_1, std_err_comedy_2], data=values_comedy)"
      ],
      "execution_count": null,
      "outputs": [
        {
          "output_type": "execute_result",
          "data": {
            "text/plain": [
              "<matplotlib.axes._subplots.AxesSubplot at 0x7f49f28cd2e8>"
            ]
          },
          "metadata": {
            "tags": []
          },
          "execution_count": 20
        },
        {
          "output_type": "display_data",
          "data": {
            "image/png": "[encoded data removed]",
            "text/plain": [
              "<Figure size 432x288 with 1 Axes>"
            ]
          },
          "metadata": {
            "tags": [],
            "needs_background": "light"
          }
        }
      ]
    },
    {
      "cell_type": "markdown",
      "metadata": {
        "id": "-kXdQJEVj_i6"
      },
      "source": [
        "## **A/A Test for Woody Allen Movies**\n",
        "\n",
        "### ***Hypothesis:***\n",
        "\n",
        "There is no significant difference in ratings between the samples. \n",
        "\n",
        "### ***Result:***\n",
        "\n",
        "Fail to reject the null that there is no significant difference in ratings between the samples.\n",
        "\n",
        "The p-value of 0.51 is not less than the .05 threshold we need to reject the null. \n",
        "\n",
        "### ***Conclusion:***\n",
        "\n",
        "We conclude that the confounding variables have been controlled for. "
      ]
    },
    {
      "cell_type": "code",
      "metadata": {
        "colab": {
          "base_uri": "https://localhost:8080/",
          "height": 318
        },
        "id": "d2mZpG_bK8nJ",
        "outputId": "627ac968-7c28-4af7-9661-a4007b9e3898"
      },
      "source": [
        "#creating dataframe for Woody Allen movies from comedy_recent\n",
        "woody_allen=all_comedy.loc[all_comedy['director']=='Woody Allen',:]\n",
        "woody_allen.head(2)"
      ],
      "execution_count": null,
      "outputs": [
        {
          "output_type": "execute_result",
          "data": {
            "text/html": [
              "<div>\n",
              "<style scoped>\n",
              "    .dataframe tbody tr th:only-of-type {\n",
              "        vertical-align: middle;\n",
              "    }\n",
              "\n",
              "    .dataframe tbody tr th {\n",
              "        vertical-align: top;\n",
              "    }\n",
              "\n",
              "    .dataframe thead th {\n",
              "        text-align: right;\n",
              "    }\n",
              "</style>\n",
              "<table border=\"1\" class=\"dataframe\">\n",
              "  <thead>\n",
              "    <tr style=\"text-align: right;\">\n",
              "      <th></th>\n",
              "      <th>imdb_title_id</th>\n",
              "      <th>title</th>\n",
              "      <th>original_title</th>\n",
              "      <th>year</th>\n",
              "      <th>date_published</th>\n",
              "      <th>genre</th>\n",
              "      <th>duration</th>\n",
              "      <th>country</th>\n",
              "      <th>language</th>\n",
              "      <th>director</th>\n",
              "      <th>writer</th>\n",
              "      <th>production_company</th>\n",
              "      <th>actors</th>\n",
              "      <th>description</th>\n",
              "      <th>avg_vote</th>\n",
              "      <th>votes</th>\n",
              "      <th>budget</th>\n",
              "      <th>usa_gross_income</th>\n",
              "      <th>worlwide_gross_income</th>\n",
              "      <th>metascore</th>\n",
              "      <th>reviews_from_users</th>\n",
              "      <th>reviews_from_critics</th>\n",
              "    </tr>\n",
              "  </thead>\n",
              "  <tbody>\n",
              "    <tr>\n",
              "      <th>26624</th>\n",
              "      <td>tt0104466</td>\n",
              "      <td>Mariti e mogli</td>\n",
              "      <td>Husbands and Wives</td>\n",
              "      <td>1992</td>\n",
              "      <td>1992-10-31</td>\n",
              "      <td>Comedy, Drama, Romance</td>\n",
              "      <td>108</td>\n",
              "      <td>USA</td>\n",
              "      <td>English</td>\n",
              "      <td>Woody Allen</td>\n",
              "      <td>Woody Allen</td>\n",
              "      <td>Jack Rollins &amp; Charles H. Joffe Productions</td>\n",
              "      <td>Nick Metropolis, Woody Allen, Mia Farrow, Sydn...</td>\n",
              "      <td>When their best friends announce that they're ...</td>\n",
              "      <td>7.5</td>\n",
              "      <td>26864</td>\n",
              "      <td>$ 20000000</td>\n",
              "      <td>$ 10555619</td>\n",
              "      <td>$ 10555619</td>\n",
              "      <td>NaN</td>\n",
              "      <td>89.0</td>\n",
              "      <td>58.0</td>\n",
              "    </tr>\n",
              "    <tr>\n",
              "      <th>26893</th>\n",
              "      <td>tt0105378</td>\n",
              "      <td>Ombre e nebbia</td>\n",
              "      <td>Shadows and Fog</td>\n",
              "      <td>1991</td>\n",
              "      <td>1992-03-06</td>\n",
              "      <td>Comedy</td>\n",
              "      <td>85</td>\n",
              "      <td>USA</td>\n",
              "      <td>English</td>\n",
              "      <td>Woody Allen</td>\n",
              "      <td>Woody Allen</td>\n",
              "      <td>Jack Rollins &amp; Charles H. Joffe Productions</td>\n",
              "      <td>Michael Kirby, Woody Allen, David Ogden Stiers...</td>\n",
              "      <td>With a serial strangler on the loose, a bookke...</td>\n",
              "      <td>6.7</td>\n",
              "      <td>15840</td>\n",
              "      <td>$ 14000000</td>\n",
              "      <td>$ 2735731</td>\n",
              "      <td>$ 2735731</td>\n",
              "      <td>NaN</td>\n",
              "      <td>83.0</td>\n",
              "      <td>38.0</td>\n",
              "    </tr>\n",
              "  </tbody>\n",
              "</table>\n",
              "</div>"
            ],
            "text/plain": [
              "      imdb_title_id           title  ... reviews_from_users  reviews_from_critics\n",
              "26624     tt0104466  Mariti e mogli  ...               89.0                  58.0\n",
              "26893     tt0105378  Ombre e nebbia  ...               83.0                  38.0\n",
              "\n",
              "[2 rows x 22 columns]"
            ]
          },
          "metadata": {
            "tags": []
          },
          "execution_count": 21
        }
      ]
    },
    {
      "cell_type": "code",
      "metadata": {
        "colab": {
          "base_uri": "https://localhost:8080/"
        },
        "id": "RGOkaTVnM0zH",
        "outputId": "e27df7fc-5e8e-43b0-ce8f-6ca746144cfc"
      },
      "source": [
        "#creating first random sample from woody_allen\n",
        "woody_sample_1=woody_allen.sample(frac=0.5)\n",
        "\n",
        "#checking the size of first sample\n",
        "len(woody_sample_1)"
      ],
      "execution_count": null,
      "outputs": [
        {
          "output_type": "execute_result",
          "data": {
            "text/plain": [
              "12"
            ]
          },
          "metadata": {
            "tags": []
          },
          "execution_count": 22
        }
      ]
    },
    {
      "cell_type": "code",
      "metadata": {
        "colab": {
          "base_uri": "https://localhost:8080/"
        },
        "id": "bB4YuCbhND5E",
        "outputId": "3a2d8788-20b0-4a27-df9d-f52d62f87fa6"
      },
      "source": [
        "#creating second sample from woody_allen\n",
        "woody_sample_2=woody_allen.drop(woody_sample_1.index)\n",
        "\n",
        "#checking the size of second sample\n",
        "len(woody_sample_2)"
      ],
      "execution_count": null,
      "outputs": [
        {
          "output_type": "execute_result",
          "data": {
            "text/plain": [
              "12"
            ]
          },
          "metadata": {
            "tags": []
          },
          "execution_count": 23
        }
      ]
    },
    {
      "cell_type": "code",
      "metadata": {
        "colab": {
          "base_uri": "https://localhost:8080/"
        },
        "id": "v_NeOWdPNMwj",
        "outputId": "ac2d89e8-c773-4de6-caa2-594d131e70eb"
      },
      "source": [
        "#running a/a test for woody_allen\n",
        "stats.ttest_ind(woody_sample_1['avg_vote'],woody_sample_2['avg_vote'])"
      ],
      "execution_count": null,
      "outputs": [
        {
          "output_type": "execute_result",
          "data": {
            "text/plain": [
              "Ttest_indResult(statistic=0.5643190330384532, pvalue=0.5782456490571877)"
            ]
          },
          "metadata": {
            "tags": []
          },
          "execution_count": 24
        }
      ]
    },
    {
      "cell_type": "code",
      "metadata": {
        "id": "YvllHZD0iGOj"
      },
      "source": [
        "# Calculate the sample size, mean, and variance of each sample.\n",
        "woody_sample_1_n = woody_sample_1.shape[0]\n",
        "woody_sample_2_n = woody_sample_2.shape[0]\n",
        "woody_sample_1_mean = woody_sample_1['avg_vote'].mean()\n",
        "woody_sample_2_mean = woody_sample_2['avg_vote'].mean()\n",
        "woody_sample_1_var = woody_sample_1['avg_vote'].var()\n",
        "woody_sample_2_var = woody_sample_2['avg_vote'].var()"
      ],
      "execution_count": null,
      "outputs": []
    },
    {
      "cell_type": "code",
      "metadata": {
        "colab": {
          "base_uri": "https://localhost:8080/"
        },
        "id": "_Si3dD6xiYMh",
        "outputId": "e96df3d2-02ad-49be-9f50-91167e4f6ee2"
      },
      "source": [
        "# Calculate the standard error and compute the confidence intervals for comedy_sample_1.\n",
        "std_err_woody_1 = math.sqrt(woody_sample_1_var/woody_sample_1_n)\n",
        "\n",
        "margin_of_error = 1.96 * std_err_woody_1\n",
        "\n",
        "ci_lower = woody_sample_1_mean - margin_of_error\n",
        "ci_upper = woody_sample_1_mean + margin_of_error\n",
        "\n",
        "print(\"With 95% confidence the ratings mean is between \"+str(ci_lower)+\" and \"+str(ci_upper)+\".\")\n"
      ],
      "execution_count": null,
      "outputs": [
        {
          "output_type": "stream",
          "text": [
            "With 95% confidence the ratings mean is between 6.6323873894706225 and 7.117612610529376.\n"
          ],
          "name": "stdout"
        }
      ]
    },
    {
      "cell_type": "code",
      "metadata": {
        "colab": {
          "base_uri": "https://localhost:8080/"
        },
        "id": "LJeXoMDAiY2m",
        "outputId": "da590ec3-54f8-4d06-e7ef-a462761f6f72"
      },
      "source": [
        "# Calculate the standard error and compute the confidence intervals for comedy_sample_1.\n",
        "std_err_woody_2 = math.sqrt(woody_sample_2_var/woody_sample_2_n)\n",
        "\n",
        "margin_of_error = 1.96 * std_err_woody_2\n",
        "\n",
        "ci_lower = woody_sample_2_mean - margin_of_error\n",
        "ci_upper = woody_sample_2_mean + margin_of_error\n",
        "\n",
        "print(\"With 95% confidence the ratings mean is between \"+str(ci_lower)+\" and \"+str(ci_upper)+\".\")\n"
      ],
      "execution_count": null,
      "outputs": [
        {
          "output_type": "stream",
          "text": [
            "With 95% confidence the ratings mean is between 6.5264619107296005 and 7.023538089270402.\n"
          ],
          "name": "stdout"
        }
      ]
    },
    {
      "cell_type": "code",
      "metadata": {
        "id": "ZP4ZBrybDzPp"
      },
      "source": [
        "# Create dataframe for bar plot.\n",
        "woody_sample_2['director']='Woody Allen 2'\n",
        "woody_1=woody_sample_1.loc[:,['director','avg_vote']]\n",
        "woody_2=woody_sample_2.loc[:,['director','avg_vote']]\n",
        "values_woody=pd.concat([woody_1,woody_2])\n"
      ],
      "execution_count": null,
      "outputs": []
    },
    {
      "cell_type": "code",
      "metadata": {
        "colab": {
          "base_uri": "https://localhost:8080/",
          "height": 71
        },
        "id": "LrhaDxBZEqnk",
        "outputId": "18108207-7b3e-43c7-adc3-d23a5ac39367"
      },
      "source": [
        "sns.barplot(x='director',y= 'avg_vote', yerr=[std_err_woody_1, std_err_woody_2], data=values_woody)"
      ],
      "execution_count": null,
      "outputs": [
        {
          "output_type": "execute_result",
          "data": {
            "text/plain": [
              "<matplotlib.axes._subplots.AxesSubplot at 0x7f49f1da0eb8>"
            ]
          },
          "metadata": {
            "tags": []
          },
          "execution_count": 29
        },
        {
          "output_type": "display_data",
          "data": {
            "image/png": "[encoded data removed]",
            "text/plain": [
              "<Figure size 432x288 with 1 Axes>"
            ]
          },
          "metadata": {
            "tags": [],
            "needs_background": "light"
          }
        }
      ]
    },
    {
      "cell_type": "markdown",
      "metadata": {
        "id": "5rvmn4WqkLXU"
      },
      "source": [
        "## **A/B Test of Ratings**\n",
        "\n",
        "### ***Hypothesis:***\n",
        "\n",
        "There is no difference between Woody Allen movies ratings and average ratings for all other directors’ movies. \n",
        "\n",
        "### ***Result:***\n",
        "\n",
        "Reject the null that there is no difference between Woody Allen movies ratings and average ratings for all other directors’ movies.\n",
        "\n",
        "The p-value is less than the .05 threshold we need to reject the null. \n",
        "\n",
        "### ***Conclusion:***\n",
        "\n",
        "We conclude that director of the movies impacts the rating. "
      ]
    },
    {
      "cell_type": "code",
      "metadata": {
        "colab": {
          "base_uri": "https://localhost:8080/"
        },
        "id": "ye8TR97TNar_",
        "outputId": "c05e905c-f5ed-4035-88fd-da5c1c3461d5"
      },
      "source": [
        "#running t-test for comedy_recent and woody_allen\n",
        "stats.ttest_ind(comedy_recent['avg_vote'],woody_allen['avg_vote'])"
      ],
      "execution_count": null,
      "outputs": [
        {
          "output_type": "execute_result",
          "data": {
            "text/plain": [
              "Ttest_indResult(statistic=-4.641801005146197, pvalue=3.4765313916619776e-06)"
            ]
          },
          "metadata": {
            "tags": []
          },
          "execution_count": 30
        }
      ]
    },
    {
      "cell_type": "code",
      "metadata": {
        "id": "cWB4-M5-0y_S"
      },
      "source": [
        "# Calculate the sample size, mean, and variance of each sample.\n",
        "comedy_n = comedy_recent.shape[0]\n",
        "woody_n = woody_allen.shape[0]\n",
        "comedy_mean = comedy_recent['avg_vote'].mean()\n",
        "woody_mean = woody_allen['avg_vote'].mean()\n",
        "comedy_var = comedy_recent['avg_vote'].var()\n",
        "woody_var = woody_allen['avg_vote'].var()"
      ],
      "execution_count": null,
      "outputs": []
    },
    {
      "cell_type": "code",
      "metadata": {
        "colab": {
          "base_uri": "https://localhost:8080/"
        },
        "id": "61sJ7LuT8rsy",
        "outputId": "b5cc8802-3ec9-40d0-86dc-973c43604a0f"
      },
      "source": [
        "# Calculate the standard error and compute the confidence intervals for comedy_recent.\n",
        "std_err_comedy = math.sqrt(comedy_var/comedy_n)\n",
        "\n",
        "margin_of_error = 1.96 * std_err_comedy\n",
        "\n",
        "ci_lower = comedy_mean - margin_of_error\n",
        "ci_upper = comedy_mean + margin_of_error\n",
        "\n",
        "print(\"With 95% confidence the ratings mean is between \"+str(ci_lower)+\" and \"+str(ci_upper)+\".\")\n",
        "\n"
      ],
      "execution_count": null,
      "outputs": [
        {
          "output_type": "stream",
          "text": [
            "With 95% confidence the ratings mean is between 5.662000741404299 and 5.696108695879008.\n"
          ],
          "name": "stdout"
        }
      ]
    },
    {
      "cell_type": "code",
      "metadata": {
        "colab": {
          "base_uri": "https://localhost:8080/"
        },
        "id": "926oXBS7_URx",
        "outputId": "a9d8e970-0b6f-491c-f399-9dd496739b3d"
      },
      "source": [
        "# Calculate the standard error and compute the confidence intervals for woody_allen.\n",
        "std_err_woody = math.sqrt(woody_var/woody_n)\n",
        "\n",
        "margin_of_error = 1.96 * std_err_woody\n",
        "\n",
        "ci_lower = woody_mean - margin_of_error\n",
        "ci_upper = woody_mean + margin_of_error\n",
        "\n",
        "print(\"With 95% confidence the ratings mean is between \"+str(ci_lower)+\" and \"+str(ci_upper)+\".\")"
      ],
      "execution_count": null,
      "outputs": [
        {
          "output_type": "stream",
          "text": [
            "With 95% confidence the ratings mean is between 6.653931702765121 and 6.996068297234878.\n"
          ],
          "name": "stdout"
        }
      ]
    },
    {
      "cell_type": "code",
      "metadata": {
        "colab": {
          "base_uri": "https://localhost:8080/"
        },
        "id": "iTGRw16L9fUy",
        "outputId": "c4259f02-8ef8-4dec-d659-9f3f2f25df61"
      },
      "source": [
        "print(comedy_mean)\n",
        "print(woody_mean)"
      ],
      "execution_count": null,
      "outputs": [
        {
          "output_type": "stream",
          "text": [
            "5.679054718641654\n",
            "6.824999999999999\n"
          ],
          "name": "stdout"
        }
      ]
    },
    {
      "cell_type": "code",
      "metadata": {
        "id": "LkayzoaL_bSr"
      },
      "source": [
        "# Create dataframe for bar plot.\n",
        "comedy_new=comedy_recent.copy()\n",
        "comedy_new.loc[:,'director'] = 'Average Rating'\n",
        "woody=woody_allen.loc[:, ['director', 'avg_vote']]\n",
        "comedy=comedy_new.loc[:,['director', 'avg_vote']]\n",
        "values = pd.concat([woody, comedy])"
      ],
      "execution_count": null,
      "outputs": []
    },
    {
      "cell_type": "code",
      "metadata": {
        "colab": {
          "base_uri": "https://localhost:8080/",
          "height": 71
        },
        "id": "sMBneygg8D4x",
        "outputId": "f4e7686b-ac6f-41e0-e479-5923f1ee2905"
      },
      "source": [
        "sns.barplot(x='director',y= 'avg_vote', yerr=[std_err_woody, std_err_comedy], data=values)"
      ],
      "execution_count": null,
      "outputs": [
        {
          "output_type": "execute_result",
          "data": {
            "text/plain": [
              "<matplotlib.axes._subplots.AxesSubplot at 0x7f49f18e3d30>"
            ]
          },
          "metadata": {
            "tags": []
          },
          "execution_count": 36
        },
        {
          "output_type": "display_data",
          "data": {
            "image/png": "[encoded data removed]",
            "text/plain": [
              "<Figure size 432x288 with 1 Axes>"
            ]
          },
          "metadata": {
            "tags": [],
            "needs_background": "light"
          }
        }
      ]
    }
  ]
}